{
 "cells": [
  {
   "cell_type": "markdown",
   "metadata": {
    "collapsed": true
   },
   "source": [
    "# My Jupyter Notebook on IBM Data Science Experience"
   ]
  },
  {
   "cell_type": "markdown",
   "metadata": {},
   "source": [
    "*I am interested in data science because I love telling stories with data and using data to help bring that data to life.I love helping others. In data science that could be helping a business understand its customers or improving the way it uses its customer data.*"
   ]
  },
  {
   "cell_type": "markdown",
   "metadata": {},
   "source": [
    "# Data science Languages"
   ]
  },
  {
   "cell_type": "markdown",
   "metadata": {},
   "source": [
    "1.Python<br>\n",
    "2.R<br>\n",
    "3.SQL<br>\n",
    "4.JAVA<br>\n",
    "5.Julia<br>\n",
    "6.Javascript<br>\n",
    "7.Swift<br>\n",
    "8.C/C++<br>\n",
    "9.Scala<br>\n",
    "10.Go <br>\n",
    "11.Matlab<br> \n",
    "12.SAS<br>"
   ]
  },
  {
   "cell_type": "markdown",
   "metadata": {},
   "source": [
    "# Data Science Libraries"
   ]
  },
  {
   "cell_type": "markdown",
   "metadata": {},
   "source": [
    "1.Numpy<br>\n",
    "2.Pandas<br>\n",
    "3.Matplotlib<br>\n",
    "4.Scikit-Learn<br>\n",
    "5.TensorFlow<br>\n",
    "6.Plotly<br>\n",
    "7.PyTorch<br>\n",
    "8.Statsmodel<br>\n",
    "9.Seaborn<br>\n",
    "10.Keras"
   ]
  },
  {
   "cell_type": "markdown",
   "metadata": {},
   "source": [
    "# Table for data science tools"
   ]
  },
  {
   "cell_type": "markdown",
   "metadata": {},
   "source": [
    "\n",
    "| Tool Name       | Description                                                  | Category          |\n",
    "|-----------------|--------------------------------------------------------------|-------------------|\n",
    "| Python          | General-purpose programming language with rich data science libraries. | Programming       |\n",
    "| R               | Statistical programming language with a vast ecosystem of data analysis packages. | Programming       |\n",
    "| Jupyter Notebook | Interactive environment for creating and sharing code, ideal for data exploration. | Development      |\n",
    "| Pandas          | Python library for data manipulation and analysis with data structures. | Libraries         |\n",
    "| Scikit-learn    | Machine learning library in Python, providing various algorithms for ML tasks. | Libraries         |"
   ]
  },
  {
   "cell_type": "markdown",
   "metadata": {},
   "source": [
    "# Arithmetic Expression Example"
   ]
  },
  {
   "cell_type": "markdown",
   "metadata": {},
   "source": [
    "### Multiply Numbers"
   ]
  },
  {
   "cell_type": "code",
   "execution_count": 5,
   "metadata": {},
   "outputs": [
    {
     "data": {
      "text/plain": [
       "1725"
      ]
     },
     "execution_count": 5,
     "metadata": {},
     "output_type": "execute_result"
    }
   ],
   "source": [
    "75*23"
   ]
  },
  {
   "cell_type": "markdown",
   "metadata": {},
   "source": [
    "###  Add Numbers"
   ]
  },
  {
   "cell_type": "code",
   "execution_count": 6,
   "metadata": {},
   "outputs": [
    {
     "data": {
      "text/plain": [
       "646"
      ]
     },
     "execution_count": 6,
     "metadata": {},
     "output_type": "execute_result"
    }
   ],
   "source": [
    "434+212"
   ]
  },
  {
   "cell_type": "markdown",
   "metadata": {},
   "source": [
    "# Convert Minute to Hours"
   ]
  },
  {
   "cell_type": "code",
   "execution_count": 8,
   "metadata": {},
   "outputs": [
    {
     "name": "stdout",
     "output_type": "stream",
     "text": [
      "Enter the number of minutes: 4\n",
      "4 minutes is equal to 0.07 hours\n"
     ]
    }
   ],
   "source": [
    "# Get input from the user\n",
    "minutes = int(input(\"Enter the number of minutes: \"))\n",
    "\n",
    "# Convert minutes to hours\n",
    "hours = minutes / 60\n",
    "\n",
    "print(f\"{minutes} minutes is equal to {hours:.2f} hours\")\n"
   ]
  },
  {
   "cell_type": "markdown",
   "metadata": {},
   "source": [
    "# Objectives"
   ]
  },
  {
   "cell_type": "markdown",
   "metadata": {},
   "source": [
    "\n",
    "- Extract meaningful insights from data.\n",
    "- Make data-driven decisions.\n",
    "- Predict future trends and outcomes.\n",
    "- Identify patterns and correlations in data.\n",
    "- Build predictive and descriptive models.\n",
    "- Discover hidden relationships in large datasets.\n",
    "- Optimize processes and operations based on data analysis.\n",
    "- Provide actionable recommendations.\n",
    "- Develop machine learning algorithms.\n",
    "- Visualize complex data for easier understanding."
   ]
  },
  {
   "cell_type": "markdown",
   "metadata": {},
   "source": [
    "**Sarvesh S. Pawaskar**\n",
    "<br>Electronics & Telecommunication Engineering Student"
   ]
  }
 ],
 "metadata": {
  "kernelspec": {
   "display_name": "Python 3 (ipykernel)",
   "language": "python",
   "name": "python3"
  },
  "language_info": {
   "codemirror_mode": {
    "name": "ipython",
    "version": 3
   },
   "file_extension": ".py",
   "mimetype": "text/x-python",
   "name": "python",
   "nbconvert_exporter": "python",
   "pygments_lexer": "ipython3",
   "version": "3.8.16"
  }
 },
 "nbformat": 4,
 "nbformat_minor": 1
}
